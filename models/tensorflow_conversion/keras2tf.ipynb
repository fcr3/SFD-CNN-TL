{
 "cells": [
  {
   "cell_type": "markdown",
   "metadata": {},
   "source": [
    "# Converting Models to OpenVINO IR\n",
    "\n",
    "In this lab, you will learn about converting models to an OpenVINO Immediate Representation (IR). This representation will allow OpenVINO to conduct inference optimally on Intel hardware.\n",
    "\n",
    "### Sections\n",
    "1.1 **Convert Keras Models (.hdf5):** We will convert a fault segmentation Keras model to a frozen graph.<br/>\n",
    "1.2 **Convert Tensorflow Frozen Graphs (.pb):** Using our newly converted frozen graph, we will use the model optimizer to convert from frozen graph to IR. <br/>\n",
    "1.3 **Convert ONNX Models (.onnx):** We will convert a salt identification Pytorch model to its ONNX equivalent and then convert to IR.<br/>\n",
    "\n",
    "### Imports\n",
    "\n",
    "Below are some important imports and global variables that we will need to set up before moving forward. Make sure to run `pip install -r requirements.txt` and build/pull the docker image for Open Seismic."
   ]
  },
  {
   "cell_type": "code",
   "execution_count": 1,
   "metadata": {},
   "outputs": [
    {
     "name": "stderr",
     "output_type": "stream",
     "text": [
      "Using TensorFlow backend.\n"
     ]
    }
   ],
   "source": [
    "import os\n",
    "from tensorflow.python.util import deprecation\n",
    "deprecation._PRINT_DEPRECATION_WARNINGS = False\n",
    "import warnings\n",
    "\n",
    "import numpy as np\n",
    "import tensorflow as tf\n",
    "tf.compat.v1.logging.set_verbosity(tf.compat.v1.logging.ERROR)\n",
    "\n",
    "from tensorflow.python.framework import graph_util\n",
    "from tensorflow.python.framework import graph_io\n",
    "from keras.layers import *\n",
    "from keras.models import load_model\n",
    "import tensorflow.keras.backend as K\n",
    "import shutil, sys\n",
    "\n",
    "import torch\n",
    "from pathlib import PurePath\n",
    "from keras.models import model_from_json, Sequential"
   ]
  },
  {
   "cell_type": "markdown",
   "metadata": {},
   "source": [
    "## Section 1.1: Convert Keras Models (.hdf5)\n",
    "\n",
    "OpenVINO supports popular deep learning frameworks, and [here](https://docs.openvinotoolkit.org/latest/openvino_docs_MO_DG_Deep_Learning_Model_Optimizer_DevGuide.html) is a list of the frameworks that it supports. For Keras models, we will first convert to a Tensorflow frozen graph representation. In section 1.2, we will convert the Tensorflow frozen graph representation into OpenVINO's Immediate Representation (IR). Below, we will walk through how to convert a Keras model to a frozen graph.\n",
    "\n",
    "### Steps\n",
    "1. Using the Keras library, load the model into memory by specifying the path to the Keras model as well as custom objects that you defined in your network."
   ]
  },
  {
   "cell_type": "code",
   "execution_count": 2,
   "metadata": {},
   "outputs": [],
   "source": [
    "vggModel = '../vgg.json'\n",
    "vggWeights = '../vgg.h5'\n",
    "mlpModel = '../gsbMLP.json'\n",
    "mlpWeights = '../gsbMLP.h5'\n",
    "\n",
    "# jsonModelFilePath, weightsFilePath = mlpModel, mlpWeights\n",
    "jsonModelFilePath, weightsFilePath = vggModel, vggWeights\n",
    "\n",
    "# load model\n",
    "jsonModelFile = open(jsonModelFilePath, 'r' )\n",
    "base_model = jsonModelFile.read()\n",
    "jsonModelFile.close()\n",
    "model = model_from_json(base_model)\n",
    "model.load_weights(weightsFilePath)\n",
    "model.compile( loss='binary_crossentropy', optimizer='sgd', metrics=[ 'accuracy' ] )"
   ]
  },
  {
   "cell_type": "code",
   "execution_count": 3,
   "metadata": {},
   "outputs": [],
   "source": [
    "# path_to_keras = str(assets_path.joinpath('fseg-60.hdf5'))\n",
    "# model = load_model(path_to_keras, custom_objects={'cross_entropy_balanced': cross_entropy_balanced})\n",
    "assets_path = PurePath('.')\n",
    "frozen_model_path = str(assets_path)\n",
    "frozen_model_name = 'vgg_sfd.pb'"
   ]
  },
  {
   "cell_type": "markdown",
   "metadata": {},
   "source": [
    "2. Get the node names that exist within the Keras model layers"
   ]
  },
  {
   "cell_type": "code",
   "execution_count": 4,
   "metadata": {},
   "outputs": [],
   "source": [
    "tf.get_logger().setLevel('INFO')\n",
    "K.set_image_data_format('channels_last')\n",
    "\n",
    "output_node_names = [node.op.name for node in model.outputs]"
   ]
  },
  {
   "cell_type": "markdown",
   "metadata": {},
   "source": [
    "3. Instantiate a Keras session and use the graph_util function from Tensorflow's framework module to create a constant graph."
   ]
  },
  {
   "cell_type": "code",
   "execution_count": 5,
   "metadata": {},
   "outputs": [
    {
     "name": "stdout",
     "output_type": "stream",
     "text": [
      "INFO:tensorflow:Froze 14 variables.\n",
      "INFO:tensorflow:Converted 14 variables to const ops.\n"
     ]
    }
   ],
   "source": [
    "sess = K.get_session()\n",
    "constant_graph = graph_util.convert_variables_to_constants(sess,\n",
    "                                                           sess.graph.as_graph_def(),\n",
    "                                                           output_node_names)"
   ]
  },
  {
   "cell_type": "markdown",
   "metadata": {},
   "source": [
    "4. Finally, write the constant graph to disk with name `frozen_model_name` at `frozen_model_path`."
   ]
  },
  {
   "cell_type": "code",
   "execution_count": 6,
   "metadata": {},
   "outputs": [
    {
     "data": {
      "text/plain": [
       "'./vgg_sfd.pb'"
      ]
     },
     "execution_count": 6,
     "metadata": {},
     "output_type": "execute_result"
    }
   ],
   "source": [
    "graph_io.write_graph(constant_graph, frozen_model_path, frozen_model_name, as_text=False)"
   ]
  },
  {
   "cell_type": "markdown",
   "metadata": {},
   "source": [
    "In four easy steps, we were able to convert a Keras model into a frozen graph."
   ]
  },
  {
   "cell_type": "markdown",
   "metadata": {},
   "source": [
    "## Section 1.2: Convert Tensorflow Frozen Graphs (.pb)\n",
    "\n",
    "In the previous section, we walked through how to convert a Keras model into its frozen graph equivalent. This was a necessary step because we can now convert our frozen graph into an OpenVINO IR. Below, we will walk through how to convert a frozen graph model to OpenVINO IR using the Open Seismic Docker image.\n",
    "\n",
    "### Steps\n",
    "1. Familiarize yourself with the Model Optimizer options. For a detailed explanation, go [here](https://docs.openvinotoolkit.org/latest/openvino_docs_MO_DG_prepare_model_Config_Model_Optimizer.html)."
   ]
  },
  {
   "cell_type": "code",
   "execution_count": 7,
   "metadata": {
    "scrolled": true
   },
   "outputs": [
    {
     "name": "stdout",
     "output_type": "stream",
     "text": [
      "usage: mo.py [options]\n",
      "\n",
      "optional arguments:\n",
      "  -h, --help            show this help message and exit\n",
      "  --framework {tf,caffe,mxnet,kaldi,onnx}\n",
      "                        Name of the framework used to train the input model.\n",
      "\n",
      "Framework-agnostic parameters:\n",
      "  --input_model INPUT_MODEL, -w INPUT_MODEL, -m INPUT_MODEL\n",
      "                        Tensorflow*: a file with a pre-trained model (binary\n",
      "                        or text .pb file after freezing). Caffe*: a model\n",
      "                        proto file with model weights\n",
      "  --model_name MODEL_NAME, -n MODEL_NAME\n",
      "                        Model_name parameter passed to the final create_ir\n",
      "                        transform. This parameter is used to name a network in\n",
      "                        a generated IR and output .xml/.bin files.\n",
      "  --output_dir OUTPUT_DIR, -o OUTPUT_DIR\n",
      "                        Directory that stores the generated IR. By default, it\n",
      "                        is the directory from where the Model Optimizer is\n",
      "                        launched.\n",
      "  --input_shape INPUT_SHAPE\n",
      "                        Input shape(s) that should be fed to an input node(s)\n",
      "                        of the model. Shape is defined as a comma-separated\n",
      "                        list of integer numbers enclosed in parentheses or\n",
      "                        square brackets, for example [1,3,227,227] or\n",
      "                        (1,227,227,3), where the order of dimensions depends\n",
      "                        on the framework input layout of the model. For\n",
      "                        example, [N,C,H,W] is used for Caffe* models and\n",
      "                        [N,H,W,C] for TensorFlow* models. Model Optimizer\n",
      "                        performs necessary transformations to convert the\n",
      "                        shape to the layout required by Inference Engine\n",
      "                        (N,C,H,W). The shape should not contain undefined\n",
      "                        dimensions (? or -1) and should fit the dimensions\n",
      "                        defined in the input operation of the graph. If there\n",
      "                        are multiple inputs in the model, --input_shape should\n",
      "                        contain definition of shape for each input separated\n",
      "                        by a comma, for example: [1,3,227,227],[2,4] for a\n",
      "                        model with two inputs with 4D and 2D shapes.\n",
      "                        Alternatively, specify shapes with the --input option.\n",
      "  --scale SCALE, -s SCALE\n",
      "                        All input values coming from original network inputs\n",
      "                        will be divided by this value. When a list of inputs\n",
      "                        is overridden by the --input parameter, this scale is\n",
      "                        not applied for any input that does not match with the\n",
      "                        original input of the model.\n",
      "  --reverse_input_channels\n",
      "                        Switch the input channels order from RGB to BGR (or\n",
      "                        vice versa). Applied to original inputs of the model\n",
      "                        if and only if a number of channels equals 3. Applied\n",
      "                        after application of --mean_values and --scale_values\n",
      "                        options, so numbers in --mean_values and\n",
      "                        --scale_values go in the order of channels used in the\n",
      "                        original model.\n",
      "  --log_level {CRITICAL,ERROR,WARN,WARNING,INFO,DEBUG,NOTSET}\n",
      "                        Logger level\n",
      "  --input INPUT         Quoted list of comma-separated input nodes names with\n",
      "                        shapes, data types, and values for freezing. The shape\n",
      "                        and value are specified as space-separated lists. The\n",
      "                        data type of input node is specified in braces and can\n",
      "                        have one of the values: f64 (float64), f32 (float32),\n",
      "                        f16 (float16), i64 (int64), i32 (int32), u8 (uint8),\n",
      "                        boolean. For example, use the following format to set\n",
      "                        input port 0 of the node `node_name1` with the shape\n",
      "                        [3 4] as an input node and freeze output port 1 of the\n",
      "                        node `node_name2` with the value [20 15] of the int32\n",
      "                        type and shape [2]: \"0:node_name1[3\n",
      "                        4],node_name2:1[2]{i32}->[20 15]\".\n",
      "  --output OUTPUT       The name of the output operation of the model. For\n",
      "                        TensorFlow*, do not add :0 to this name.\n",
      "  --mean_values MEAN_VALUES, -ms MEAN_VALUES\n",
      "                        Mean values to be used for the input image per\n",
      "                        channel. Values to be provided in the (R,G,B) or\n",
      "                        [R,G,B] format. Can be defined for desired input of\n",
      "                        the model, for example: \"--mean_values\n",
      "                        data[255,255,255],info[255,255,255]\". The exact\n",
      "                        meaning and order of channels depend on how the\n",
      "                        original model was trained.\n",
      "  --scale_values SCALE_VALUES\n",
      "                        Scale values to be used for the input image per\n",
      "                        channel. Values are provided in the (R,G,B) or [R,G,B]\n",
      "                        format. Can be defined for desired input of the model,\n",
      "                        for example: \"--scale_values\n",
      "                        data[255,255,255],info[255,255,255]\". The exact\n",
      "                        meaning and order of channels depend on how the\n",
      "                        original model was trained.\n",
      "  --data_type {FP16,FP32,half,float}\n",
      "                        Data type for all intermediate tensors and weights. If\n",
      "                        original model is in FP32 and --data_type=FP16 is\n",
      "                        specified, all model weights and biases are quantized\n",
      "                        to FP16.\n",
      "  --disable_fusing      Turn off fusing of linear operations to Convolution\n",
      "  --disable_resnet_optimization\n",
      "                        Turn off resnet optimization\n",
      "  --finegrain_fusing FINEGRAIN_FUSING\n",
      "                        Regex for layers/operations that won't be fused.\n",
      "                        Example: --finegrain_fusing Convolution1,.*Scale.*\n",
      "  --disable_gfusing     Turn off fusing of grouped convolutions\n",
      "  --enable_concat_optimization\n",
      "                        Turn on Concat optimization.\n",
      "  --move_to_preprocess  Move mean values to IR preprocess section\n",
      "  --extensions EXTENSIONS\n",
      "                        Directory or a comma separated list of directories\n",
      "                        with extensions. To disable all extensions including\n",
      "                        those that are placed at the default location, pass an\n",
      "                        empty string.\n",
      "  --batch BATCH, -b BATCH\n",
      "                        Input batch size\n",
      "  --version             Version of Model Optimizer\n",
      "  --silent              Prevent any output messages except those that\n",
      "                        correspond to log level equals ERROR, that can be set\n",
      "                        with the following option: --log_level. By default,\n",
      "                        log level is already ERROR.\n",
      "  --freeze_placeholder_with_value FREEZE_PLACEHOLDER_WITH_VALUE\n",
      "                        Replaces input layer with constant node with provided\n",
      "                        value, for example: \"node_name->True\". It will be\n",
      "                        DEPRECATED in future releases. Use --input option to\n",
      "                        specify a value for freezing.\n",
      "  --generate_deprecated_IR_V7\n",
      "                        Force to generate deprecated IR V7 with layers from\n",
      "                        old IR specification.\n",
      "  --static_shape        Enables IR generation for fixed input shape (folding\n",
      "                        `ShapeOf` operations and shape-calculating sub-graphs\n",
      "                        to `Constant`). Changing model input shape using the\n",
      "                        Inference Engine API in runtime may fail for such an\n",
      "                        IR.\n",
      "  --keep_shape_ops      The option is ignored. Expected behavior is enabled by\n",
      "                        default.\n",
      "  --disable_weights_compression\n",
      "                        Disable compression and store weights with original\n",
      "                        precision.\n",
      "  --progress            Enable model conversion progress display.\n",
      "  --stream_output       Switch model conversion progress display to a\n",
      "                        multiline mode.\n",
      "  --transformations_config TRANSFORMATIONS_CONFIG\n",
      "                        Use the configuration file with transformations\n",
      "                        description.\n",
      "\n",
      "TensorFlow*-specific parameters:\n",
      "  --input_model_is_text\n",
      "                        TensorFlow*: treat the input model file as a text\n",
      "                        protobuf format. If not specified, the Model Optimizer\n",
      "                        treats it as a binary file by default.\n",
      "  --input_checkpoint INPUT_CHECKPOINT\n",
      "                        TensorFlow*: variables file to load.\n",
      "  --input_meta_graph INPUT_META_GRAPH\n",
      "                        Tensorflow*: a file with a meta-graph of the model\n",
      "                        before freezing\n",
      "  --saved_model_dir SAVED_MODEL_DIR\n",
      "                        TensorFlow*: directory with a model in SavedModel\n",
      "                        formatof TensorFlow 1.x or 2.x version.\n",
      "  --saved_model_tags SAVED_MODEL_TAGS\n",
      "                        Group of tag(s) of the MetaGraphDef to load, in string\n",
      "                        format, separated by ','. For tag-set contains\n",
      "                        multiple tags, all tags must be passed in.\n",
      "  --tensorflow_custom_operations_config_update TENSORFLOW_CUSTOM_OPERATIONS_CONFIG_UPDATE\n",
      "                        TensorFlow*: update the configuration file with node\n",
      "                        name patterns with input/output nodes information.\n",
      "  --tensorflow_use_custom_operations_config TENSORFLOW_USE_CUSTOM_OPERATIONS_CONFIG\n",
      "                        Use the configuration file with custom operation\n",
      "                        description.\n",
      "  --tensorflow_object_detection_api_pipeline_config TENSORFLOW_OBJECT_DETECTION_API_PIPELINE_CONFIG\n",
      "                        TensorFlow*: path to the pipeline configuration file\n",
      "                        used to generate model created with help of Object\n",
      "                        Detection API.\n",
      "  --tensorboard_logdir TENSORBOARD_LOGDIR\n",
      "                        TensorFlow*: dump the input graph to a given directory\n",
      "                        that should be used with TensorBoard.\n",
      "  --tensorflow_custom_layer_libraries TENSORFLOW_CUSTOM_LAYER_LIBRARIES\n",
      "                        TensorFlow*: comma separated list of shared libraries\n",
      "                        with TensorFlow* custom operations implementation.\n",
      "  --disable_nhwc_to_nchw\n",
      "                        Disables default translation from NHWC to NCHW\n",
      "\n",
      "Caffe*-specific parameters:\n",
      "  --input_proto INPUT_PROTO, -d INPUT_PROTO\n",
      "                        Deploy-ready prototxt file that contains a topology\n",
      "                        structure and layer attributes\n",
      "  --caffe_parser_path CAFFE_PARSER_PATH\n",
      "                        Path to Python Caffe* parser generated from\n",
      "                        caffe.proto\n",
      "  -k K                  Path to CustomLayersMapping.xml to register custom\n",
      "                        layers\n",
      "  --mean_file MEAN_FILE, -mf MEAN_FILE\n",
      "                        Mean image to be used for the input. Should be a\n",
      "                        binaryproto file\n",
      "  --mean_file_offsets MEAN_FILE_OFFSETS, -mo MEAN_FILE_OFFSETS\n",
      "                        Mean image offsets to be used for the input\n",
      "                        binaryproto file. When the mean image is bigger than\n",
      "                        the expected input, it is cropped. By default, centers\n",
      "                        of the input image and the mean image are the same and\n",
      "                        the mean image is cropped by dimensions of the input\n",
      "                        image. The format to pass this option is the\n",
      "                        following: \"-mo (x,y)\". In this case, the mean file is\n",
      "                        cropped by dimensions of the input image with offset\n",
      "                        (x,y) from the upper left corner of the mean image\n",
      "  --disable_omitting_optional\n",
      "                        Disable omitting optional attributes to be used for\n",
      "                        custom layers. Use this option if you want to transfer\n",
      "                        all attributes of a custom layer to IR. Default\n",
      "                        behavior is to transfer the attributes with default\n",
      "                        values and the attributes defined by the user to IR.\n",
      "  --enable_flattening_nested_params\n",
      "                        Enable flattening optional params to be used for\n",
      "                        custom layers. Use this option if you want to transfer\n",
      "                        attributes of a custom layer to IR with flattened\n",
      "                        nested parameters. Default behavior is to transfer the\n",
      "                        attributes without flattening nested parameters.\n",
      "\n",
      "Mxnet-specific parameters:\n",
      "  --input_symbol INPUT_SYMBOL\n",
      "                        Symbol file (for example, model-symbol.json) that\n",
      "                        contains a topology structure and layer attributes\n",
      "  --nd_prefix_name ND_PREFIX_NAME\n",
      "                        Prefix name for args.nd and argx.nd files.\n",
      "  --pretrained_model_name PRETRAINED_MODEL_NAME\n",
      "                        Name of a pretrained MXNet model without extension and\n",
      "                        epoch number. This model will be merged with args.nd\n",
      "                        and argx.nd files\n",
      "  --save_params_from_nd\n",
      "                        Enable saving built parameters file from .nd files\n",
      "  --legacy_mxnet_model  Enable MXNet loader to make a model compatible with\n",
      "                        the latest MXNet version. Use only if your model was\n",
      "                        trained with MXNet version lower than 1.0.0\n",
      "  --enable_ssd_gluoncv  Enable pattern matchers replacers for converting\n",
      "                        gluoncv ssd topologies.\n",
      "\n",
      "Kaldi-specific parameters:\n",
      "  --counts COUNTS       Path to the counts file\n",
      "  --remove_output_softmax\n",
      "                        Removes the SoftMax layer that is the output layer\n",
      "  --remove_memory       Removes the Memory layer and use additional inputs\n",
      "                        outputs instead\n"
     ]
    }
   ],
   "source": [
    "os_version = 'os:opensource_resmnt'\n",
    "model_optimizer_cmd = f\"\"\"\n",
    "docker run {os_version} /bin/bash executables/mo.sh -h\n",
    "\"\"\"\n",
    "! {model_optimizer_cmd}"
   ]
  },
  {
   "cell_type": "markdown",
   "metadata": {},
   "source": [
    "2. Specify the appropriate configurations."
   ]
  },
  {
   "cell_type": "code",
   "execution_count": 8,
   "metadata": {},
   "outputs": [
    {
     "data": {
      "text/plain": [
       "[None, 45, 45, 1]"
      ]
     },
     "execution_count": 8,
     "metadata": {},
     "output_type": "execute_result"
    }
   ],
   "source": [
    "# Model expects a 5-dimensional input\n",
    "model.input.get_shape().as_list()"
   ]
  },
  {
   "cell_type": "code",
   "execution_count": 9,
   "metadata": {},
   "outputs": [
    {
     "data": {
      "text/plain": [
       "'docker run -v /home/sdp/freyes/workspace/official_openseismic/updated_open_seismic/SFD-CNN-TL/models/tensorflow_conversion:/mnt_vol os:opensource_resmnt /bin/bash executables/mo.sh --input_model /mnt_vol/vgg_sfd.pb             --input_shape [1,45,45,1]             --data_type FP32             --output_dir /mnt_vol/IR_sdf/              --model_name vgg_sdf'"
      ]
     },
     "execution_count": 9,
     "metadata": {},
     "output_type": "execute_result"
    }
   ],
   "source": [
    "phys_mnt_vol = str(PurePath(os.getcwd()))\n",
    "docker_mnt_vol = '/mnt_vol'\n",
    "docker_frozen_model_path = f'{docker_mnt_vol}/{frozen_model_name}'\n",
    "input_shape = str([1] + model.input.get_shape().as_list()[1:]).replace(\" \", \"\")\n",
    "data_type = 'FP32'\n",
    "docker_output_model_path = f'{docker_mnt_vol}/IR_sdf/'\n",
    "ov_model_name = 'vgg_sdf'\n",
    "configs = f\"--input_model {docker_frozen_model_path} \\\n",
    "            --input_shape {input_shape} \\\n",
    "            --data_type {data_type} \\\n",
    "            --output_dir {docker_output_model_path}  \\\n",
    "            --model_name {ov_model_name}\"\n",
    "\n",
    "model_optimizer_cmd = f\"docker run -v {phys_mnt_vol}:{docker_mnt_vol} {os_version} /bin/bash executables/mo.sh {configs}\"\n",
    "model_optimizer_cmd # Checking the command to see if this works"
   ]
  },
  {
   "cell_type": "markdown",
   "metadata": {},
   "source": [
    "3. Run the model optimizer on Open Seismic!"
   ]
  },
  {
   "cell_type": "code",
   "execution_count": 10,
   "metadata": {},
   "outputs": [
    {
     "name": "stdout",
     "output_type": "stream",
     "text": [
      "Model Optimizer arguments:\n",
      "Common parameters:\n",
      "\t- Path to the Input Model: \t/mnt_vol/vgg_sfd.pb\n",
      "\t- Path for generated IR: \t/mnt_vol/IR_sdf/\n",
      "\t- IR output name: \tvgg_sdf\n",
      "\t- Log level: \tERROR\n",
      "\t- Batch: \tNot specified, inherited from the model\n",
      "\t- Input layers: \tNot specified, inherited from the model\n",
      "\t- Output layers: \tNot specified, inherited from the model\n",
      "\t- Input shapes: \t[1,45,45,1]\n",
      "\t- Mean values: \tNot specified\n",
      "\t- Scale values: \tNot specified\n",
      "\t- Scale factor: \tNot specified\n",
      "\t- Precision of IR: \tFP32\n",
      "\t- Enable fusing: \tTrue\n",
      "\t- Enable grouped convolutions fusing: \tTrue\n",
      "\t- Move mean values to preprocess section: \tNone\n",
      "\t- Reverse input channels: \tFalse\n",
      "TensorFlow specific parameters:\n",
      "\t- Input model in text protobuf format: \tFalse\n",
      "\t- Path to model dump for TensorBoard: \tNone\n",
      "\t- List of shared libraries with TensorFlow custom layers implementation: \tNone\n",
      "\t- Update the configuration file with input/output node names: \tNone\n",
      "\t- Use configuration file used to generate the model with Object Detection API: \tNone\n",
      "\t- Use the config file: \tNone\n",
      "Model Optimizer version: \tcustom_master_278b662e566995fb67c48a71d5f2fbc374fccf29\n",
      "\n",
      "[ SUCCESS ] Generated IR version 10 model.\n",
      "[ SUCCESS ] XML file: /mnt_vol/IR_sdf/vgg_sdf.xml\n",
      "[ SUCCESS ] BIN file: /mnt_vol/IR_sdf/vgg_sdf.bin\n",
      "[ SUCCESS ] Total execution time: 4.08 seconds. \n",
      "[ SUCCESS ] Memory consumed: 237 MB. \n"
     ]
    }
   ],
   "source": [
    "! {model_optimizer_cmd}"
   ]
  },
  {
   "cell_type": "markdown",
   "metadata": {},
   "source": [
    "Congratulations! You have successfully converted a Keras model to a Tensorflow frozen graph and optimized it to an OpenVINO IR!"
   ]
  }
 ],
 "metadata": {
  "kernelspec": {
   "display_name": "Python 3",
   "language": "python",
   "name": "python3"
  },
  "language_info": {
   "codemirror_mode": {
    "name": "ipython",
    "version": 3
   },
   "file_extension": ".py",
   "mimetype": "text/x-python",
   "name": "python",
   "nbconvert_exporter": "python",
   "pygments_lexer": "ipython3",
   "version": "3.6.9"
  }
 },
 "nbformat": 4,
 "nbformat_minor": 4
}
